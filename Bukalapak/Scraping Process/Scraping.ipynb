{
 "cells": [
  {
   "cell_type": "code",
   "execution_count": 1,
   "metadata": {},
   "outputs": [],
   "source": [
    "import requests\n",
    "from bs4 import BeautifulSoup\n",
    "import pandas as pd\n",
    "import numpy as np"
   ]
  },
  {
   "cell_type": "markdown",
   "metadata": {},
   "source": [
    "### Loop for get data from pages"
   ]
  },
  {
   "cell_type": "code",
   "execution_count": 26,
   "metadata": {},
   "outputs": [],
   "source": [
    "list_df = []\n",
    "for i in range(61,71,1):\n",
    "    results = requests.get(f'https://www.bukalapak.com/products/s?from=omnisearch&page={i}&search%5Bhashtag%5D=&search%5Bkeywords%5D=teh&search_source=omnisearch_organic&source=navbar&utf8=%E2%9C%93')\n",
    "    src = results.content\n",
    "    soup = BeautifulSoup(src, 'lxml')\n",
    "    \n",
    "    title_product = []\n",
    "    product_title = soup.find_all('a', class_='product-media__link')\n",
    "    for product in product_title:\n",
    "        title_product.append(product['title'])\n",
    "        \n",
    "        \n",
    "    links = []\n",
    "    for element in product_title:\n",
    "        links.append(element['href'])\n",
    "\n",
    "    sold_value = []\n",
    "    weight = []\n",
    "    for link in links:\n",
    "        webpage = requests.get('https://bukalapak.com' + link)\n",
    "        source = webpage.content\n",
    "        soup2 = BeautifulSoup(source, 'lxml')\n",
    "\n",
    "        if len(soup2.find_all('dd', class_='qa-pd-sold-value')) != 0:\n",
    "            sold_value.append(int(soup2.find_all('dd', class_='qa-pd-sold-value')[0].text[1:-1]))\n",
    "        else:\n",
    "            sold_value.append(np.nan)\n",
    "\n",
    "        if len(soup2.find_all('dd', class_='qa-pd-weight-value')) != 0:\n",
    "            weight.append(soup2.find_all('dd', class_='qa-pd-weight-value')[0].text[1:-1])\n",
    "        else:\n",
    "            weight.append(np.nan)\n",
    "            \n",
    "    price_product = []\n",
    "    prices = soup.find_all('div', class_='product-price')\n",
    "    for price in prices:\n",
    "        price_product.append(price['data-reduced-price'])\n",
    "    \n",
    "    \n",
    "    seller_product = [] \n",
    "    users = soup.find_all('a', class_='')\n",
    "    users.pop(0)\n",
    "    for user in users:\n",
    "        if '/u/' in user['href']:\n",
    "            seller_product.append(user['href'][3:])\n",
    "            \n",
    "    feedback_seller = []\n",
    "    feedbacks = soup.find_all('a', class_='user-feedback-summary')\n",
    "    for feedback in feedbacks:\n",
    "        feedback_seller.append(feedback.text)\n",
    "        \n",
    "    df = pd.DataFrame()\n",
    "    df['title'] = title_product\n",
    "    df['price'] = price_product\n",
    "    df['weight'] = weight\n",
    "    df['count_sold'] = sold_value\n",
    "    df['seller'] = seller_product\n",
    "    df['feedback_seller'] = feedback_seller\n",
    "    \n",
    "    list_df.append(df)"
   ]
  },
  {
   "cell_type": "code",
   "execution_count": 27,
   "metadata": {},
   "outputs": [],
   "source": [
    "df = pd.concat(list_df, ignore_index=True)\n",
    "df.to_csv('df3001-3500.csv', index=False)"
   ]
  },
  {
   "cell_type": "markdown",
   "metadata": {},
   "source": [
    "### Scrape page one by one"
   ]
  },
  {
   "cell_type": "code",
   "execution_count": 4,
   "metadata": {},
   "outputs": [],
   "source": [
    "result = requests.get('https://www.bukalapak.com/products?utf8=%E2%9C%93&source=navbar&from=omnisearch&search_source=omnisearch_organic&search%5Bhashtag%5D=&search%5Bkeywords%5D=teh')\n",
    "result1 = requests.get('https://www.bukalapak.com/products/s?from=omnisearch&page=2&search%5Bhashtag%5D=&search%5Bkeywords%5D=teh&search_source=omnisearch_organic&source=navbar&utf8=%E2%9C%93')\n",
    "result2 = requests.get('https://www.bukalapak.com/products/s?from=omnisearch&page=3&search%5Bhashtag%5D=&search%5Bkeywords%5D=teh&search_source=omnisearch_organic&source=navbar&utf8=%E2%9C%93')\n",
    "result3 = requests.get('https://www.bukalapak.com/products/s?from=omnisearch&page=4&search%5Bhashtag%5D=&search%5Bkeywords%5D=teh&search_source=omnisearch_organic&source=navbar&utf8=%E2%9C%93')\n",
    "result4 = requests.get('https://www.bukalapak.com/products/s?from=omnisearch&page=5&search%5Bhashtag%5D=&search%5Bkeywords%5D=teh&search_source=omnisearch_organic&source=navbar&utf8=%E2%9C%93')\n",
    "result5 = requests.get('https://www.bukalapak.com/products/s?from=omnisearch&page=6&search%5Bhashtag%5D=&search%5Bkeywords%5D=teh&search_source=omnisearch_organic&source=navbar&utf8=%E2%9C%93')\n",
    "result6 = requests.get('https://www.bukalapak.com/products/s?from=omnisearch&page=7&search%5Bhashtag%5D=&search%5Bkeywords%5D=teh&search_source=omnisearch_organic&source=navbar&utf8=%E2%9C%93')\n",
    "result7 = requests.get('https://www.bukalapak.com/products/s?from=omnisearch&page=8&search%5Bhashtag%5D=&search%5Bkeywords%5D=teh&search_source=omnisearch_organic&source=navbar&utf8=%E2%9C%93')\n",
    "result8 = requests.get('https://www.bukalapak.com/products/s?from=omnisearch&page=9&search%5Bhashtag%5D=&search%5Bkeywords%5D=teh&search_source=omnisearch_organic&source=navbar&utf8=%E2%9C%93')\n",
    "result9 = requests.get('https://www.bukalapak.com/products/s?from=omnisearch&page=10&search%5Bhashtag%5D=&search%5Bkeywords%5D=teh&search_source=omnisearch_organic&source=navbar&utf8=%E2%9C%93')\n",
    "result = requests.get('https://www.bukalapak.com/products/s?from=omnisearch&page=11&search%5Bhashtag%5D=&search%5Bkeywords%5D=teh&search_source=omnisearch_organic&source=navbar&utf8=%E2%9C%93')\n",
    "result = requests.get('https://www.bukalapak.com/products/s?from=omnisearch&page=12&search%5Bhashtag%5D=&search%5Bkeywords%5D=teh&search_source=omnisearch_organic&source=navbar&utf8=%E2%9C%93')\n",
    "result = requests.get('https://www.bukalapak.com/products/s?from=omnisearch&page=13&search%5Bhashtag%5D=&search%5Bkeywords%5D=teh&search_source=omnisearch_organic&source=navbar&utf8=%E2%9C%93')\n",
    "result = requests.get('https://www.bukalapak.com/products/s?from=omnisearch&page=14&search%5Bhashtag%5D=&search%5Bkeywords%5D=teh&search_source=omnisearch_organic&source=navbar&utf8=%E2%9C%93')\n",
    "\n",
    "\n",
    "src = result.content\n",
    "soup = BeautifulSoup(src, 'lxml')"
   ]
  },
  {
   "cell_type": "code",
   "execution_count": 6,
   "metadata": {},
   "outputs": [],
   "source": [
    "title_product = []\n",
    "product_title = soup.find_all('a', class_='product-media__link')\n",
    "for product in product_title:\n",
    "    title_product.append(product['title'])"
   ]
  },
  {
   "cell_type": "code",
   "execution_count": 7,
   "metadata": {},
   "outputs": [],
   "source": [
    "links = []\n",
    "for element in product_title:\n",
    "    links.append(element['href'])\n",
    "\n",
    "sold_value = []\n",
    "weight = []\n",
    "for link in links:\n",
    "    webpage = requests.get('https://bukalapak.com' + link)\n",
    "    source = webpage.content\n",
    "    soup2 = BeautifulSoup(source, 'lxml')\n",
    "    \n",
    "    if len(soup2.find_all('dd', class_='qa-pd-sold-value')) != 0:\n",
    "        sold_value.append(int(soup2.find_all('dd', class_='qa-pd-sold-value')[0].text[1:-1]))\n",
    "    else:\n",
    "        sold_value.append(np.nan)\n",
    "        \n",
    "    if len(soup2.find_all('dd', class_='qa-pd-weight-value')) != 0:\n",
    "        weight.append(soup2.find_all('dd', class_='qa-pd-weight-value')[0].text[1:-1])\n",
    "    else:\n",
    "        weight.append(np.nan)"
   ]
  },
  {
   "cell_type": "code",
   "execution_count": 8,
   "metadata": {},
   "outputs": [],
   "source": [
    "price_product = []\n",
    "prices = soup.find_all('div', class_='product-price')\n",
    "for price in prices:\n",
    "    price_product.append(price['data-reduced-price'])"
   ]
  },
  {
   "cell_type": "code",
   "execution_count": 9,
   "metadata": {},
   "outputs": [],
   "source": [
    "seller_product = [] \n",
    "users = soup.find_all('a', class_='')\n",
    "users.pop(0)\n",
    "for user in users:\n",
    "    if '/u/' in user['href']:\n",
    "        seller_product.append(user['href'][3:])"
   ]
  },
  {
   "cell_type": "code",
   "execution_count": 10,
   "metadata": {},
   "outputs": [],
   "source": [
    "feedback_seller = []\n",
    "feedbacks = soup.find_all('a', class_='user-feedback-summary')\n",
    "for feedback in feedbacks:\n",
    "    feedback_seller.append(feedback.text)"
   ]
  },
  {
   "cell_type": "code",
   "execution_count": 11,
   "metadata": {},
   "outputs": [],
   "source": [
    "df = pd.DataFrame()\n",
    "df['title'] = title_product\n",
    "df['price'] = price_product\n",
    "df['weight'] = weight\n",
    "df['count_sold'] = sold_value\n",
    "df['seller'] = seller_product\n",
    "df['feedback_seller'] = feedback_seller"
   ]
  },
  {
   "cell_type": "code",
   "execution_count": 13,
   "metadata": {},
   "outputs": [],
   "source": [
    "df.to_csv('df1-50.csv', index=False)\n",
    "df.to_csv('df51-100.csv', index=False)\n",
    "df.to_csv('df101-150.csv', index=False)\n",
    "df.to_csv('df151-200.csv', index=False)\n",
    "df.to_csv('df201-250.csv', index=False)\n",
    "df.to_csv('df251-300.csv', index=False)\n",
    "df.to_csv('df301-350.csv', index=False)\n",
    "df.to_csv('df351-400.csv', index=False)\n",
    "df.to_csv('df401-450.csv', index=False)\n",
    "df.to_csv('df451-500.csv', index=False)\n",
    "df.to_csv('df501-550.csv', index=False)\n",
    "df.to_csv('df551-600.csv', index=False)\n",
    "df.to_csv('df601-650.csv', index=False)\n",
    "df.to_csv('df651-700.csv', index=False)"
   ]
  }
 ],
 "metadata": {
  "kernelspec": {
   "display_name": "Python 3.8.8 ('base')",
   "language": "python",
   "name": "python3"
  },
  "language_info": {
   "codemirror_mode": {
    "name": "ipython",
    "version": 3
   },
   "file_extension": ".py",
   "mimetype": "text/x-python",
   "name": "python",
   "nbconvert_exporter": "python",
   "pygments_lexer": "ipython3",
   "version": "3.8.8"
  },
  "vscode": {
   "interpreter": {
    "hash": "1d84bae23828aaf05661dea55ff3e3335130d09cab05fa0890dffcc6c127e78b"
   }
  }
 },
 "nbformat": 4,
 "nbformat_minor": 2
}
